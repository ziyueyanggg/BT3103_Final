{
  "nbformat": 4,
  "nbformat_minor": 0,
  "metadata": {
    "colab": {
      "name": "myFirebase Code",
      "version": "0.3.2",
      "provenance": [],
      "collapsed_sections": []
    },
    "kernelspec": {
      "name": "python3",
      "display_name": "Python 3"
    }
  },
  "cells": [
    {
      "metadata": {
        "id": "rse-lcBHPQ4O",
        "colab_type": "code",
        "colab": {}
      },
      "cell_type": "code",
      "source": [
        "import requests\n",
        "\n",
        "# Let's download some data from a Google Spreadsheet\n",
        "\n",
        "# Publicly viewable spreadsheet. \n",
        "# https://docs.google.com/spreadsheets/d/1zDFWwWLaPu5Wmlz6VQJqGaTsl7TuleoxZYdn8B3zFS0/edit?usp=sharing\n",
        "\n",
        "# Extract the sheetKey and the sheetName you want to access data for. \n",
        "\n",
        "personalDataUrl = \"https://docs.google.com/spreadsheets/d/14dZQ5XLFG5-1NNGYTgclrTXlkEUiSWWiOCdkjNZaAfQ/gviz/tq?tqx=out:csv&sheet=personal_data\"\n",
        "moduleEnrolmentUrl = \"https://docs.google.com/spreadsheets/d/14dZQ5XLFG5-1NNGYTgclrTXlkEUiSWWiOCdkjNZaAfQ/gviz/tq?tqx=out:csv&sheet=module_enrolment\"\n",
        "programEnrolmentUrl = \"https://docs.google.com/spreadsheets/d/14dZQ5XLFG5-1NNGYTgclrTXlkEUiSWWiOCdkjNZaAfQ/gviz/tq?tqx=out:csv&sheet=program_enrolment\"\n",
        "preEntryUrl = \"https://docs.google.com/spreadsheets/d/14dZQ5XLFG5-1NNGYTgclrTXlkEUiSWWiOCdkjNZaAfQ/gviz/tq?tqx=out:csv&sheet=pre_entry_subject\"\n",
        "basisAdmissionUrl = \"https://docs.google.com/spreadsheets/d/14dZQ5XLFG5-1NNGYTgclrTXlkEUiSWWiOCdkjNZaAfQ/gviz/tq?tqx=out:csv&sheet=basis_of_admission\""
      ],
      "execution_count": 0,
      "outputs": []
    },
    {
      "metadata": {
        "id": "ruGdF9EWPVKB",
        "colab_type": "code",
        "colab": {}
      },
      "cell_type": "code",
      "source": [
        "# Let'd download the data as text like we downloaded the raw html data. \n",
        "import urllib\n",
        "response1 = urllib.request.urlopen(personalDataUrl)\n",
        "data1 = response1.read()     \n",
        "\n",
        "response2 = urllib.request.urlopen(moduleEnrolmentUrl)\n",
        "data2 = response2.read()   \n",
        "\n",
        "response3 = urllib.request.urlopen(programEnrolmentUrl)\n",
        "data3 = response3.read()\n",
        "\n",
        "response4 = urllib.request.urlopen(preEntryUrl)\n",
        "data4 = response4.read()   \n",
        "\n",
        "response5 = urllib.request.urlopen(basisAdmissionUrl)\n",
        "data5 = response5.read()   \n",
        "\n",
        "personal_data = data1.decode('utf-8') \n",
        "module_enrolment = data2.decode('utf-8')\n",
        "program_enrolment = data3.decode('utf-8')\n",
        "pre_entry = data4.decode('utf-8')\n",
        "basis_admission = data5.decode('utf-8')"
      ],
      "execution_count": 0,
      "outputs": []
    },
    {
      "metadata": {
        "id": "uNDi6PTCPX55",
        "colab_type": "code",
        "colab": {}
      },
      "cell_type": "code",
      "source": [
        "# Let's convert this data into a chartable format. Something like: \n",
        "# newData = [[\"Sun\", 5], [\"Mon\", 46], [\"Tue\", 28]]\n",
        "\n",
        "import pandas as pd\n",
        "import io\n",
        "s1 = requests.get(personalDataUrl).content\n",
        "s2 = requests.get(moduleEnrolmentUrl).content\n",
        "s3 = requests.get(programEnrolmentUrl).content\n",
        "s4 = requests.get(preEntryUrl).content\n",
        "s5 = requests.get(basisAdmissionUrl).content\n",
        "\n",
        "personalData = pd.read_csv(io.StringIO(s1.decode('utf-8')))\n",
        "moduleEnrolment = pd.read_csv(io.StringIO(s2.decode('utf-8')))\n",
        "programEnrolment = pd.read_csv(io.StringIO(s3.decode('utf-8')))\n",
        "preEntry = pd.read_csv(io.StringIO(s4.decode('utf-8')))\n",
        "basisAdmission = pd.read_csv(io.StringIO(s5.decode('utf-8')))"
      ],
      "execution_count": 0,
      "outputs": []
    },
    {
      "metadata": {
        "id": "QuNOAoFwPadz",
        "colab_type": "code",
        "colab": {}
      },
      "cell_type": "code",
      "source": [
        ""
      ],
      "execution_count": 0,
      "outputs": []
    },
    {
      "metadata": {
        "id": "YFJHR24GPhCn",
        "colab_type": "code",
        "colab": {}
      },
      "cell_type": "code",
      "source": [
        "def background(row):\n",
        "  if (row['basis_of_admission_descr'] == \"GCE 'A' Level (English)\") or (row['basis_of_admission_descr'] == \"Discretionary\") or (row['basis_of_admission_descr'] == \"Bright A Level by A-Level Exam\"):\n",
        "    return \"JC\"\n",
        "  elif (row['basis_of_admission_descr'] == \"Direct Entry From Poly\") or (row['basis_of_admission_descr'] == \"NON-HSC\") or (row['basis_of_admission_descr'] == 'Poly Diploma with Merit') or (row['basis_of_admission_descr'] == 'NON-HSC'):\n",
        "    return \"Poly\"\n",
        "  else:\n",
        "    return \"Others\"\n",
        "  "
      ],
      "execution_count": 0,
      "outputs": []
    },
    {
      "metadata": {
        "id": "aDNj2qd8PhmJ",
        "colab_type": "code",
        "outputId": "e1811575-573c-4b41-826a-e0f91fd6af20",
        "colab": {
          "base_uri": "https://localhost:8080/",
          "height": 204
        }
      },
      "cell_type": "code",
      "source": [
        "basisAdmission['Pre-U Background'] = 'default'\n",
        "\n",
        "for index, row in basisAdmission.iterrows():  \n",
        "  basisAdmission.loc[index, 'Pre-U Background'] = background(row)\n",
        "\n",
        "basisAdmission.head()"
      ],
      "execution_count": 5,
      "outputs": [
        {
          "output_type": "execute_result",
          "data": {
            "text/html": [
              "<div>\n",
              "<style scoped>\n",
              "    .dataframe tbody tr th:only-of-type {\n",
              "        vertical-align: middle;\n",
              "    }\n",
              "\n",
              "    .dataframe tbody tr th {\n",
              "        vertical-align: top;\n",
              "    }\n",
              "\n",
              "    .dataframe thead th {\n",
              "        text-align: right;\n",
              "    }\n",
              "</style>\n",
              "<table border=\"1\" class=\"dataframe\">\n",
              "  <thead>\n",
              "    <tr style=\"text-align: right;\">\n",
              "      <th></th>\n",
              "      <th>token</th>\n",
              "      <th>academic_career</th>\n",
              "      <th>career_nbr</th>\n",
              "      <th>basis_of_admission_code</th>\n",
              "      <th>basis_of_admission_descr</th>\n",
              "      <th>Pre-U Background</th>\n",
              "    </tr>\n",
              "  </thead>\n",
              "  <tbody>\n",
              "    <tr>\n",
              "      <th>0</th>\n",
              "      <td>32000_1</td>\n",
              "      <td>UGRD</td>\n",
              "      <td>0</td>\n",
              "      <td>ET_20</td>\n",
              "      <td>GCE 'A' Level (English)</td>\n",
              "      <td>JC</td>\n",
              "    </tr>\n",
              "    <tr>\n",
              "      <th>1</th>\n",
              "      <td>19700_2</td>\n",
              "      <td>UGRD</td>\n",
              "      <td>0</td>\n",
              "      <td>ET_20</td>\n",
              "      <td>GCE 'A' Level (English)</td>\n",
              "      <td>JC</td>\n",
              "    </tr>\n",
              "    <tr>\n",
              "      <th>2</th>\n",
              "      <td>12051_3</td>\n",
              "      <td>UDEN</td>\n",
              "      <td>0</td>\n",
              "      <td>ET_20</td>\n",
              "      <td>GCE 'A' Level (English)</td>\n",
              "      <td>JC</td>\n",
              "    </tr>\n",
              "    <tr>\n",
              "      <th>3</th>\n",
              "      <td>25996_4</td>\n",
              "      <td>UGRD</td>\n",
              "      <td>0</td>\n",
              "      <td>ET_30</td>\n",
              "      <td>Direct Entry From Poly</td>\n",
              "      <td>Poly</td>\n",
              "    </tr>\n",
              "    <tr>\n",
              "      <th>4</th>\n",
              "      <td>55742_5</td>\n",
              "      <td>UGRD</td>\n",
              "      <td>0</td>\n",
              "      <td>ET_30</td>\n",
              "      <td>Direct Entry From Poly</td>\n",
              "      <td>Poly</td>\n",
              "    </tr>\n",
              "  </tbody>\n",
              "</table>\n",
              "</div>"
            ],
            "text/plain": [
              "     token academic_career  career_nbr basis_of_admission_code  \\\n",
              "0  32000_1            UGRD           0                   ET_20   \n",
              "1  19700_2            UGRD           0                   ET_20   \n",
              "2  12051_3            UDEN           0                   ET_20   \n",
              "3  25996_4            UGRD           0                   ET_30   \n",
              "4  55742_5            UGRD           0                   ET_30   \n",
              "\n",
              "  basis_of_admission_descr Pre-U Background  \n",
              "0  GCE 'A' Level (English)               JC  \n",
              "1  GCE 'A' Level (English)               JC  \n",
              "2  GCE 'A' Level (English)               JC  \n",
              "3   Direct Entry From Poly             Poly  \n",
              "4   Direct Entry From Poly             Poly  "
            ]
          },
          "metadata": {
            "tags": []
          },
          "execution_count": 5
        }
      ]
    },
    {
      "metadata": {
        "id": "Ev6lEfnWPkCH",
        "colab_type": "code",
        "outputId": "1cad94c0-8a5f-44c5-d929-2adb974e0835",
        "colab": {
          "base_uri": "https://localhost:8080/",
          "height": 496
        }
      },
      "cell_type": "code",
      "source": [
        "# Merge\n",
        "\n",
        "result = moduleEnrolment[['token','module_code']].merge(personalData[['token', 'gender', 'year_of_birth']], left_on = 'token', right_on = 'token')\n",
        "result = result.merge(programEnrolment[['token', 'academic_program_descr','program_status_descr', 'degree_descr']], left_on = 'token', right_on = 'token')\n",
        "result = result.merge(preEntry[['token', 'pre_entry_course_level_descr', 'pre_entry_subject_taken_descr']],left_on = 'token', right_on = 'token')\n",
        "result = result.merge(basisAdmission[['token', 'Pre-U Background']],left_on = 'token', right_on = 'token')\n",
        "result.head()"
      ],
      "execution_count": 6,
      "outputs": [
        {
          "output_type": "execute_result",
          "data": {
            "text/html": [
              "<div>\n",
              "<style scoped>\n",
              "    .dataframe tbody tr th:only-of-type {\n",
              "        vertical-align: middle;\n",
              "    }\n",
              "\n",
              "    .dataframe tbody tr th {\n",
              "        vertical-align: top;\n",
              "    }\n",
              "\n",
              "    .dataframe thead th {\n",
              "        text-align: right;\n",
              "    }\n",
              "</style>\n",
              "<table border=\"1\" class=\"dataframe\">\n",
              "  <thead>\n",
              "    <tr style=\"text-align: right;\">\n",
              "      <th></th>\n",
              "      <th>token</th>\n",
              "      <th>module_code</th>\n",
              "      <th>gender</th>\n",
              "      <th>year_of_birth</th>\n",
              "      <th>academic_program_descr</th>\n",
              "      <th>program_status_descr</th>\n",
              "      <th>degree_descr</th>\n",
              "      <th>pre_entry_course_level_descr</th>\n",
              "      <th>pre_entry_subject_taken_descr</th>\n",
              "      <th>Pre-U Background</th>\n",
              "    </tr>\n",
              "  </thead>\n",
              "  <tbody>\n",
              "    <tr>\n",
              "      <th>0</th>\n",
              "      <td>32000_1</td>\n",
              "      <td>ACC2002</td>\n",
              "      <td>M</td>\n",
              "      <td>1994</td>\n",
              "      <td>Exchange (Coursework)</td>\n",
              "      <td>COMPLETED PROGRAMME</td>\n",
              "      <td>Bachelor of Engineering (Materials Science and...</td>\n",
              "      <td>O LEVEL</td>\n",
              "      <td>ENGLISH LITERATURE</td>\n",
              "      <td>JC</td>\n",
              "    </tr>\n",
              "    <tr>\n",
              "      <th>1</th>\n",
              "      <td>32000_1</td>\n",
              "      <td>PF2105</td>\n",
              "      <td>M</td>\n",
              "      <td>1994</td>\n",
              "      <td>Exchange (Coursework)</td>\n",
              "      <td>COMPLETED PROGRAMME</td>\n",
              "      <td>Bachelor of Engineering (Materials Science and...</td>\n",
              "      <td>O LEVEL</td>\n",
              "      <td>ENGLISH LITERATURE</td>\n",
              "      <td>JC</td>\n",
              "    </tr>\n",
              "    <tr>\n",
              "      <th>2</th>\n",
              "      <td>32000_1</td>\n",
              "      <td>SSA2209</td>\n",
              "      <td>M</td>\n",
              "      <td>1994</td>\n",
              "      <td>Exchange (Coursework)</td>\n",
              "      <td>COMPLETED PROGRAMME</td>\n",
              "      <td>Bachelor of Engineering (Materials Science and...</td>\n",
              "      <td>O LEVEL</td>\n",
              "      <td>ENGLISH LITERATURE</td>\n",
              "      <td>JC</td>\n",
              "    </tr>\n",
              "    <tr>\n",
              "      <th>3</th>\n",
              "      <td>32000_1</td>\n",
              "      <td>LSM2251</td>\n",
              "      <td>M</td>\n",
              "      <td>1994</td>\n",
              "      <td>Exchange (Coursework)</td>\n",
              "      <td>COMPLETED PROGRAMME</td>\n",
              "      <td>Bachelor of Engineering (Materials Science and...</td>\n",
              "      <td>O LEVEL</td>\n",
              "      <td>ENGLISH LITERATURE</td>\n",
              "      <td>JC</td>\n",
              "    </tr>\n",
              "    <tr>\n",
              "      <th>4</th>\n",
              "      <td>32000_1</td>\n",
              "      <td>LAJ2203</td>\n",
              "      <td>M</td>\n",
              "      <td>1994</td>\n",
              "      <td>Exchange (Coursework)</td>\n",
              "      <td>COMPLETED PROGRAMME</td>\n",
              "      <td>Bachelor of Engineering (Materials Science and...</td>\n",
              "      <td>O LEVEL</td>\n",
              "      <td>ENGLISH LITERATURE</td>\n",
              "      <td>JC</td>\n",
              "    </tr>\n",
              "  </tbody>\n",
              "</table>\n",
              "</div>"
            ],
            "text/plain": [
              "     token module_code gender  year_of_birth academic_program_descr  \\\n",
              "0  32000_1     ACC2002      M           1994  Exchange (Coursework)   \n",
              "1  32000_1      PF2105      M           1994  Exchange (Coursework)   \n",
              "2  32000_1     SSA2209      M           1994  Exchange (Coursework)   \n",
              "3  32000_1     LSM2251      M           1994  Exchange (Coursework)   \n",
              "4  32000_1     LAJ2203      M           1994  Exchange (Coursework)   \n",
              "\n",
              "  program_status_descr                                       degree_descr  \\\n",
              "0  COMPLETED PROGRAMME  Bachelor of Engineering (Materials Science and...   \n",
              "1  COMPLETED PROGRAMME  Bachelor of Engineering (Materials Science and...   \n",
              "2  COMPLETED PROGRAMME  Bachelor of Engineering (Materials Science and...   \n",
              "3  COMPLETED PROGRAMME  Bachelor of Engineering (Materials Science and...   \n",
              "4  COMPLETED PROGRAMME  Bachelor of Engineering (Materials Science and...   \n",
              "\n",
              "  pre_entry_course_level_descr pre_entry_subject_taken_descr Pre-U Background  \n",
              "0                      O LEVEL            ENGLISH LITERATURE               JC  \n",
              "1                      O LEVEL            ENGLISH LITERATURE               JC  \n",
              "2                      O LEVEL            ENGLISH LITERATURE               JC  \n",
              "3                      O LEVEL            ENGLISH LITERATURE               JC  \n",
              "4                      O LEVEL            ENGLISH LITERATURE               JC  "
            ]
          },
          "metadata": {
            "tags": []
          },
          "execution_count": 6
        }
      ]
    },
    {
      "metadata": {
        "id": "l7_eD0pTPvvm",
        "colab_type": "code",
        "colab": {}
      },
      "cell_type": "code",
      "source": [
        "result.to_csv('studentInfo.csv')\n",
        "\n",
        "from google.colab import files\n",
        "files.download(\"studentInfo.csv\")"
      ],
      "execution_count": 0,
      "outputs": []
    },
    {
      "metadata": {
        "id": "h0eBEUfPQ1tu",
        "colab_type": "code",
        "colab": {}
      },
      "cell_type": "code",
      "source": [
        ""
      ],
      "execution_count": 0,
      "outputs": []
    },
    {
      "metadata": {
        "id": "4Hxv5b6VPzhK",
        "colab_type": "code",
        "colab": {}
      },
      "cell_type": "code",
      "source": [
        "# And use your own Firebase project\n",
        "# Replace this with your firebase project url\n",
        "\n",
        "studentFirebase = \"https://myfirebase-e83f0.firebaseio.com/\"\n",
        "moduleFirebase = \"https://modulefirebase-57616.firebaseio.com/\""
      ],
      "execution_count": 0,
      "outputs": []
    },
    {
      "metadata": {
        "id": "ViZRNPsZQOu4",
        "colab_type": "code",
        "colab": {}
      },
      "cell_type": "code",
      "source": [
        "import random\n",
        "student = {}\n",
        "module  = {}\n",
        "\n",
        "module_list = ['BA', 'IS', 'CS', 'Info Sec', 'Statistics', 'Business', 'Econs', 'DSA', 'Maths', 'FASS']\n",
        "module_num = 0\n",
        "\n",
        "for index, row in result.iterrows():\n",
        "  \n",
        "  # update moduleInfo table\n",
        "  if row['module_code'] not in module.keys():\n",
        "    module[row['module_code']] = {}\n",
        "    module[row['module_code']]['gender'] = {}\n",
        "    module[row['module_code']]['gender']['F'] = random.randint(2,100)\n",
        "    module[row['module_code']]['gender']['M'] = random.randint(2,100)\n",
        "    \n",
        "    module[row['module_code']]['major'] = {}\n",
        "    module_num = random.randint(2,8)\n",
        "    order_list = []\n",
        "      \n",
        "    while module_num > 0:\n",
        "      module_order = random.randint(0,9)\n",
        "      if module_order not in order_list:\n",
        "        order_list.append(module_order)\n",
        "        module_num -= 1\n",
        "        \n",
        "    for j in order_list:\n",
        "      module[row['module_code']]['major'][module_list[j]] = random.randint(2,40)\n",
        "      \n",
        "    \n",
        "    module[row['module_code']]['preU'] = {}\n",
        "    module[row['module_code']]['preU']['JC'] = random.randint(10,50)\n",
        "    module[row['module_code']]['preU']['poly'] = random.randint(5,30)\n",
        "    module[row['module_code']]['preU']['Others'] = random.randint(2,20)\n",
        "    \n",
        "    \n",
        "  # update studentInfo table      \n",
        "  if row['token'] in student.keys():\n",
        "    # update modules only\n",
        "    student[row['token']]['modules'].append(row['module_code'])\n",
        "      \n",
        "  else:\n",
        "    student[row['token']] = {}\n",
        "    student[row['token']]['preU'] = row['Pre-U Background']\n",
        "    student[row['token']]['major'] = row['pre_entry_subject_taken_descr']\n",
        "    student[row['token']]['gender'] = row['gender']\n",
        "    student[row['token']]['modules'] = []\n",
        "    student[row['token']]['modules'].append(row['module_code'])\n",
        "    \n",
        "    \n",
        "    \n",
        "mocked_module_list = ['BT2101', 'BT2102', 'BT3103', 'IS2101']\n",
        "for k in mocked_module_list:\n",
        "  module[k] = {}\n",
        "  module[k]['gender'] = {}\n",
        "  module[k]['gender']['F'] = random.randint(2,100)\n",
        "  module[k]['gender']['M'] = random.randint(2,100)\n",
        "    \n",
        "  module[k]['major'] = {}\n",
        "  module_num = random.randint(2,8)\n",
        "  order_list = []\n",
        "      \n",
        "  while module_num > 0:\n",
        "    module_order = random.randint(0,9)\n",
        "    if module_order not in order_list:\n",
        "      order_list.append(module_order)\n",
        "      module_num -= 1\n",
        "        \n",
        "  for j in order_list:\n",
        "    module[k]['major'][module_list[j]] = random.randint(2,40)\n",
        "      \n",
        "    \n",
        "  module[k]['preU'] = {}\n",
        "  module[k]['preU']['JC'] = random.randint(10,50)\n",
        "  module[k]['preU']['poly'] = random.randint(5,30)\n",
        "  module[k]['preU']['Others'] = random.randint(2,20)\n",
        "\n",
        "    "
      ],
      "execution_count": 0,
      "outputs": []
    },
    {
      "metadata": {
        "id": "yXS8R3h6TPdF",
        "colab_type": "code",
        "outputId": "87d0cccd-0b7c-419b-e4c0-504646e92e7e",
        "colab": {
          "base_uri": "https://localhost:8080/",
          "height": 34
        }
      },
      "cell_type": "code",
      "source": [
        "import json\n",
        "\n",
        "studentInfoUrl = studentFirebase+\"student.json\"\n",
        "requests.put(url=studentInfoUrl, data=json.dumps(student)) # idempotent\n",
        "\n",
        "moduleInfoUrl = moduleFirebase+\"module.json\"\n",
        "requests.put(url=moduleInfoUrl, data=json.dumps(module))\n",
        "\n"
      ],
      "execution_count": 15,
      "outputs": [
        {
          "output_type": "execute_result",
          "data": {
            "text/plain": [
              "<Response [200]>"
            ]
          },
          "metadata": {
            "tags": []
          },
          "execution_count": 15
        }
      ]
    },
    {
      "metadata": {
        "id": "pVt0T7OhTig7",
        "colab_type": "code",
        "colab": {}
      },
      "cell_type": "code",
      "source": [
        ""
      ],
      "execution_count": 0,
      "outputs": []
    },
    {
      "metadata": {
        "id": "SIs8vuRfb9zV",
        "colab_type": "code",
        "colab": {}
      },
      "cell_type": "code",
      "source": [
        ""
      ],
      "execution_count": 0,
      "outputs": []
    }
  ]
}